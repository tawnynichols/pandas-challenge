{
 "cells": [
  {
   "cell_type": "markdown",
   "metadata": {},
   "source": [
    "# Observations\n",
    "\n",
    "## First Observation\n",
    "If scores in reading and math are an indicator of positive outcomes for schools, it would seem that charter schools perform better than district schools. When comparing the top five schools and the bottom five schools, it is clear the charter schools have a higher number of positive outcomes. The top five schools are all charter schools, while all of the bottom five schools are district. While there is roughly the same distribution between the number of charter schools and district schools, there is a much more significant difference between school size and, subsequently, budget per student. \n",
    "\n",
    "\n",
    "## Second Observation\n",
    "Chart schools have significantly lower numbers of students and tend to have lower per-student budgets as well. Smaller and medium schools (those under 2,000 students) have considerably higher scores, especially in math.  Both schools with less than 1,000 students and schools between 1,000 and 2,000 students' average math scores were around 84, with 94% of those having a passing score.  The large schools with over 2,000 have only 69% of math scores passing with an average math score of 78.  Furthermore, a similar division between budgets per student can seem as well. The line is a little less evident than the size of the school, but a similar pattern exists between those spending less per student (less than $584) and those spending more per student (especially spending over 630).  Those schools in the lowest spending bucket have an average math score of 83 and 94% passing math compared to the highest spending bucket with an average math score of 77 and 66% passing math.\n"
   ]
  },
  {
   "cell_type": "code",
   "execution_count": null,
   "metadata": {},
   "outputs": [],
   "source": []
  },
  {
   "cell_type": "code",
   "execution_count": null,
   "metadata": {},
   "outputs": [],
   "source": []
  }
 ],
 "metadata": {
  "kernelspec": {
   "display_name": "Python 3",
   "language": "python",
   "name": "python3"
  },
  "language_info": {
   "codemirror_mode": {
    "name": "ipython",
    "version": 3
   },
   "file_extension": ".py",
   "mimetype": "text/x-python",
   "name": "python",
   "nbconvert_exporter": "python",
   "pygments_lexer": "ipython3",
   "version": "3.7.6"
  }
 },
 "nbformat": 4,
 "nbformat_minor": 4
}
